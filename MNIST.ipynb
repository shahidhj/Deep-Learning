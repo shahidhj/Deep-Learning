{
 "cells": [
  {
   "cell_type": "code",
   "execution_count": 1,
   "metadata": {},
   "outputs": [],
   "source": [
    "%reload_ext autoreload\n",
    "%autoreload 2\n",
    "%matplotlib inline"
   ]
  },
  {
   "cell_type": "code",
   "execution_count": 2,
   "metadata": {},
   "outputs": [
    {
     "name": "stderr",
     "output_type": "stream",
     "text": [
      "/home/ubuntu/src/anaconda3/envs/fastai/lib/python3.6/site-packages/h5py/__init__.py:36: FutureWarning: Conversion of the second argument of issubdtype from `float` to `np.floating` is deprecated. In future, it will be treated as `np.float64 == np.dtype(float).type`.\n",
      "  from ._conv import register_converters as _register_converters\n",
      "Using TensorFlow backend.\n"
     ]
    }
   ],
   "source": [
    "from keras import datasets"
   ]
  },
  {
   "cell_type": "code",
   "execution_count": 3,
   "metadata": {},
   "outputs": [],
   "source": [
    "from keras.datasets import mnist"
   ]
  },
  {
   "cell_type": "code",
   "execution_count": 4,
   "metadata": {},
   "outputs": [],
   "source": [
    "(train_images,train_labels),(test_images,test_labels) = mnist.load_data()"
   ]
  },
  {
   "cell_type": "code",
   "execution_count": 5,
   "metadata": {},
   "outputs": [],
   "source": [
    "from keras import layers\n",
    "from keras import models\n",
    "from keras import optimizers\n",
    "from keras.utils.np_utils import to_categorical"
   ]
  },
  {
   "cell_type": "code",
   "execution_count": 6,
   "metadata": {},
   "outputs": [],
   "source": [
    "train_images = train_images.reshape((60000, 28 * 28))\n",
    "train_images = train_images.astype('float32')"
   ]
  },
  {
   "cell_type": "code",
   "execution_count": 7,
   "metadata": {},
   "outputs": [],
   "source": [
    "test_images = test_images.reshape((10000, 28 * 28))\n",
    "test_images = test_images.astype('float32')"
   ]
  },
  {
   "cell_type": "code",
   "execution_count": 8,
   "metadata": {},
   "outputs": [],
   "source": [
    "train_images = train_images/255\n",
    "test_images = test_images / 255"
   ]
  },
  {
   "cell_type": "code",
   "execution_count": 9,
   "metadata": {},
   "outputs": [
    {
     "data": {
      "text/plain": [
       "(60000, 784)"
      ]
     },
     "execution_count": 9,
     "metadata": {},
     "output_type": "execute_result"
    }
   ],
   "source": [
    "train_images.shape"
   ]
  },
  {
   "cell_type": "code",
   "execution_count": 10,
   "metadata": {},
   "outputs": [],
   "source": [
    "x_val = train_images[:10000]\n",
    "partial_x_train = train_images[10000:]\n",
    "\n",
    "y_val = train_labels[:10000]\n",
    "partial_y_train = train_labels[10000:]"
   ]
  },
  {
   "cell_type": "code",
   "execution_count": 11,
   "metadata": {},
   "outputs": [
    {
     "data": {
      "text/plain": [
       "(10000, 784)"
      ]
     },
     "execution_count": 11,
     "metadata": {},
     "output_type": "execute_result"
    }
   ],
   "source": [
    "x_val.shape"
   ]
  },
  {
   "cell_type": "code",
   "execution_count": 12,
   "metadata": {},
   "outputs": [
    {
     "data": {
      "text/plain": [
       "(50000, 784)"
      ]
     },
     "execution_count": 12,
     "metadata": {},
     "output_type": "execute_result"
    }
   ],
   "source": [
    "partial_x_train.shape"
   ]
  },
  {
   "cell_type": "code",
   "execution_count": 19,
   "metadata": {},
   "outputs": [],
   "source": [
    "test_labels = to_categorical(test_labels)"
   ]
  },
  {
   "cell_type": "code",
   "execution_count": 20,
   "metadata": {},
   "outputs": [],
   "source": [
    "one_hot_y_val = to_categorical(y_val)\n",
    "one_hot_partial_y_train = to_categorical(partial_y_train)"
   ]
  },
  {
   "cell_type": "code",
   "execution_count": 21,
   "metadata": {},
   "outputs": [
    {
     "data": {
      "text/plain": [
       "(10000, 784)"
      ]
     },
     "execution_count": 21,
     "metadata": {},
     "output_type": "execute_result"
    }
   ],
   "source": [
    "len(x_val)\n",
    "x_val.shape"
   ]
  },
  {
   "cell_type": "code",
   "execution_count": 27,
   "metadata": {},
   "outputs": [
    {
     "data": {
      "text/plain": [
       "array([0., 0., 1., 0., 0., 0., 0., 0., 0., 0.])"
      ]
     },
     "execution_count": 27,
     "metadata": {},
     "output_type": "execute_result"
    }
   ],
   "source": [
    "test_labels[1]"
   ]
  },
  {
   "cell_type": "code",
   "execution_count": 22,
   "metadata": {},
   "outputs": [
    {
     "data": {
      "text/plain": [
       "array([0., 0., 0., 0., 1., 0., 0., 0., 0., 0.])"
      ]
     },
     "execution_count": 22,
     "metadata": {},
     "output_type": "execute_result"
    }
   ],
   "source": [
    "\n",
    "one_hot_y_val[2]"
   ]
  },
  {
   "cell_type": "code",
   "execution_count": 23,
   "metadata": {},
   "outputs": [
    {
     "data": {
      "text/plain": [
       "(50000, 10)"
      ]
     },
     "execution_count": 23,
     "metadata": {},
     "output_type": "execute_result"
    }
   ],
   "source": [
    "one_hot_partial_y_train.shape"
   ]
  },
  {
   "cell_type": "code",
   "execution_count": 28,
   "metadata": {},
   "outputs": [],
   "source": [
    "model = models.Sequential()\n",
    "model.add(layers.Dense(512 , activation ='relu',input_shape=(784,)))\n",
    "model.add(layers.Dense(10, activation= 'softmax'))\n"
   ]
  },
  {
   "cell_type": "code",
   "execution_count": 29,
   "metadata": {},
   "outputs": [],
   "source": [
    "model.compile(optimizer='sgd', loss = 'categorical_crossentropy', metrics =['accuracy'])"
   ]
  },
  {
   "cell_type": "code",
   "execution_count": 30,
   "metadata": {
    "scrolled": true
   },
   "outputs": [
    {
     "name": "stdout",
     "output_type": "stream",
     "text": [
      "Train on 50000 samples, validate on 10000 samples\n",
      "Epoch 1/15\n",
      "50000/50000 [==============================] - 15s 302us/step - loss: 0.6479 - acc: 0.8436 - val_loss: 0.3736 - val_acc: 0.8990\n",
      "Epoch 2/15\n",
      "50000/50000 [==============================] - 14s 285us/step - loss: 0.3389 - acc: 0.9066 - val_loss: 0.3024 - val_acc: 0.9177\n",
      "Epoch 3/15\n",
      "50000/50000 [==============================] - 15s 298us/step - loss: 0.2884 - acc: 0.9193 - val_loss: 0.2683 - val_acc: 0.9269\n",
      "Epoch 4/15\n",
      "50000/50000 [==============================] - 15s 299us/step - loss: 0.2575 - acc: 0.9284 - val_loss: 0.2452 - val_acc: 0.9326\n",
      "Epoch 5/15\n",
      "50000/50000 [==============================] - 15s 296us/step - loss: 0.2345 - acc: 0.9348 - val_loss: 0.2267 - val_acc: 0.9359\n",
      "Epoch 6/15\n",
      "50000/50000 [==============================] - 14s 280us/step - loss: 0.2159 - acc: 0.9399 - val_loss: 0.2132 - val_acc: 0.9390\n",
      "Epoch 7/15\n",
      "50000/50000 [==============================] - 14s 290us/step - loss: 0.1998 - acc: 0.9448 - val_loss: 0.2000 - val_acc: 0.9438\n",
      "Epoch 8/15\n",
      "50000/50000 [==============================] - 14s 289us/step - loss: 0.1866 - acc: 0.9486 - val_loss: 0.1880 - val_acc: 0.9472\n",
      "Epoch 9/15\n",
      "50000/50000 [==============================] - 14s 280us/step - loss: 0.1750 - acc: 0.9511 - val_loss: 0.1792 - val_acc: 0.9498\n",
      "Epoch 10/15\n",
      "50000/50000 [==============================] - 14s 279us/step - loss: 0.1643 - acc: 0.9542 - val_loss: 0.1709 - val_acc: 0.9513\n",
      "Epoch 11/15\n",
      "50000/50000 [==============================] - 14s 275us/step - loss: 0.1550 - acc: 0.9570 - val_loss: 0.1635 - val_acc: 0.9536\n",
      "Epoch 12/15\n",
      "50000/50000 [==============================] - 14s 279us/step - loss: 0.1466 - acc: 0.9594 - val_loss: 0.1565 - val_acc: 0.9555\n",
      "Epoch 13/15\n",
      "50000/50000 [==============================] - 14s 278us/step - loss: 0.1391 - acc: 0.9616 - val_loss: 0.1499 - val_acc: 0.9580\n",
      "Epoch 14/15\n",
      "50000/50000 [==============================] - 14s 275us/step - loss: 0.1322 - acc: 0.9640 - val_loss: 0.1465 - val_acc: 0.9584\n",
      "Epoch 15/15\n",
      "50000/50000 [==============================] - 14s 290us/step - loss: 0.1259 - acc: 0.9657 - val_loss: 0.1417 - val_acc: 0.9594\n"
     ]
    },
    {
     "data": {
      "text/plain": [
       "<keras.callbacks.History at 0x7f6e02cf6e80>"
      ]
     },
     "execution_count": 30,
     "metadata": {},
     "output_type": "execute_result"
    }
   ],
   "source": [
    "model.fit(partial_x_train,one_hot_partial_y_train,batch_size=32,epochs=15,validation_data=(x_val,one_hot_y_val))"
   ]
  },
  {
   "cell_type": "code",
   "execution_count": 61,
   "metadata": {},
   "outputs": [],
   "source": [
    "??model.compile()"
   ]
  },
  {
   "cell_type": "markdown",
   "metadata": {},
   "source": []
  }
 ],
 "metadata": {
  "kernelspec": {
   "display_name": "Python 3",
   "language": "python",
   "name": "python3"
  },
  "language_info": {
   "codemirror_mode": {
    "name": "ipython",
    "version": 3
   },
   "file_extension": ".py",
   "mimetype": "text/x-python",
   "name": "python",
   "nbconvert_exporter": "python",
   "pygments_lexer": "ipython3",
   "version": "3.6.4"
  }
 },
 "nbformat": 4,
 "nbformat_minor": 2
}
